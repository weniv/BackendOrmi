{
  "nbformat": 4,
  "nbformat_minor": 0,
  "metadata": {
    "colab": {
      "provenance": []
    },
    "kernelspec": {
      "name": "python3",
      "display_name": "Python 3"
    },
    "language_info": {
      "name": "python"
    }
  },
  "cells": [
    {
      "cell_type": "markdown",
      "source": [
        "## 크롤링"
      ],
      "metadata": {
        "id": "8AyWVeBswKkc"
      }
    },
    {
      "cell_type": "code",
      "source": [
        "# 크롤링, 웹 스크래핑 : 웹에 있는 데이터를 가지고 온다!"
      ],
      "metadata": {
        "id": "qtDkwCVsnKaH"
      },
      "execution_count": null,
      "outputs": []
    },
    {
      "cell_type": "code",
      "execution_count": null,
      "metadata": {
        "id": "KoAgzHoumC33"
      },
      "outputs": [],
      "source": [
        "# 데이터를 가져오는 라이브러리 : requests\n",
        "# 가져온 데이터를 가공하는 라이브러리 : beautifulsoup"
      ]
    },
    {
      "cell_type": "code",
      "source": [
        "# 크롤링대상 : https://paullab.co.kr/stock.html"
      ],
      "metadata": {
        "id": "wM2BcwUUn-sg"
      },
      "execution_count": null,
      "outputs": []
    },
    {
      "cell_type": "code",
      "source": [
        "import requests\n",
        "from bs4 import BeautifulSoup\n",
        "\n",
        "response = requests.get('http://www.paullab.co.kr/stock.html')\n",
        "\n",
        "response.encoding = 'utf-8'\n",
        "html = response.text\n",
        "\n",
        "soup = BeautifulSoup(html, 'html.parser')"
      ],
      "metadata": {
        "id": "9pxzR4uXoHHc"
      },
      "execution_count": null,
      "outputs": []
    },
    {
      "cell_type": "code",
      "source": [
        "시세정보 = soup.select('table.table.table-hover')[0].select('span')\n",
        "거래량 = []\n",
        "\n",
        "for i in range(6, len(시세정보), 7):\n",
        "    print(시세정보[i])\n",
        "    거래량.append(시세정보[i].text.replace(',', ''))\n",
        "    \n",
        "거래량"
      ],
      "metadata": {
        "colab": {
          "base_uri": "https://localhost:8080/"
        },
        "id": "zF9812liC11m",
        "outputId": "010b4869-bb17-4319-a425-d34b0dffa447"
      },
      "execution_count": null,
      "outputs": [
        {
          "output_type": "stream",
          "name": "stdout",
          "text": [
            "<span>398,421</span>\n",
            "<span>919,571</span>\n",
            "<span>1,678,055</span>\n",
            "<span>2,168,857</span>\n",
            "<span>1,982,922</span>\n",
            "<span>839,434</span>\n",
            "<span>702,104</span>\n",
            "<span>764,800</span>\n",
            "<span>134,558</span>\n",
            "<span>288,563</span>\n",
            "<span>223,839</span>\n",
            "<span>199,580</span>\n",
            "<span>188,467</span>\n",
            "<span>160,510</span>\n",
            "<span>246,145</span>\n",
            "<span>705,046</span>\n",
            "<span>408,859</span>\n",
            "<span>404,633</span>\n",
            "<span>441,923</span>\n",
            "<span>211,019</span>\n"
          ]
        },
        {
          "output_type": "execute_result",
          "data": {
            "text/plain": [
              "['398421',\n",
              " '919571',\n",
              " '1678055',\n",
              " '2168857',\n",
              " '1982922',\n",
              " '839434',\n",
              " '702104',\n",
              " '764800',\n",
              " '134558',\n",
              " '288563',\n",
              " '223839',\n",
              " '199580',\n",
              " '188467',\n",
              " '160510',\n",
              " '246145',\n",
              " '705046',\n",
              " '408859',\n",
              " '404633',\n",
              " '441923',\n",
              " '211019']"
            ]
          },
          "metadata": {},
          "execution_count": 4
        }
      ]
    },
    {
      "cell_type": "code",
      "source": [
        "html"
      ],
      "metadata": {
        "id": "B_3v3eImoNv-"
      },
      "execution_count": null,
      "outputs": []
    },
    {
      "cell_type": "code",
      "source": [
        "soup.title"
      ],
      "metadata": {
        "colab": {
          "base_uri": "https://localhost:8080/"
        },
        "id": "V2BpNKC8ozdy",
        "outputId": "78c2f626-016d-4e29-c78e-55c06a0a96a8"
      },
      "execution_count": null,
      "outputs": [
        {
          "output_type": "execute_result",
          "data": {
            "text/plain": [
              "<title>Document</title>"
            ]
          },
          "metadata": {},
          "execution_count": 3
        }
      ]
    },
    {
      "cell_type": "code",
      "source": [
        "soup.select('.tables')"
      ],
      "metadata": {
        "colab": {
          "base_uri": "https://localhost:8080/"
        },
        "id": "VcwLWTJ6pQLP",
        "outputId": "15a9a258-8130-4339-8d2b-c31b46905aaa"
      },
      "execution_count": null,
      "outputs": [
        {
          "output_type": "execute_result",
          "data": {
            "text/plain": [
              "[<div class=\"tables\">\n",
              " <table class=\"border-style\" summary=\"시가총액 정보\">\n",
              " <tr>\n",
              " <th class=\"strong\" scope=\"row\">시가총액</th>\n",
              " <!-- 공백은 의도적으로 넣은 것입니다. -->\n",
              " <td class=\"strong\"><em id=\"_market_sum\">349조 2,323</em>억원</td>\n",
              " </tr>\n",
              " <tr>\n",
              " <th scope=\"row\">\n",
              " <a class=\"link_site\" href=\"#\">시가총액순위<i class=\"fas fa-caret-right\"></i></a>\n",
              " </th>\n",
              " <!-- 공백은 의도적으로 넣은 것입니다. -->\n",
              " <td>위니브월드 <em id=\"_market_sum\">1</em>위</td>\n",
              " </tr>\n",
              " <tr>\n",
              " <th scope=\"row\">상장주식수</th>\n",
              " <!-- 공백은 의도적으로 넣은 것입니다. -->\n",
              " <td><em id=\"_market_sum\">5,969,782,550</em></td>\n",
              " </tr>\n",
              " </table>\n",
              " <table class=\"border-style\" summary=\"업종상세 정보\">\n",
              " <tr>\n",
              " <th class=\"strong\" scope=\"row\">현재가</th>\n",
              " <td class=\"strong\"><em id=\"_market_sum\">349조 2,323</em>억원</td>\n",
              " </tr>\n",
              " <tr>\n",
              " <th scope=\"row\">52주 최고 <span class=\"bar\">l</span> 최저</th>\n",
              " <td>\n",
              " <em>62,800</em>\n",
              " <span class=\"bar\">l</span>\n",
              " <em>42,300</em>\n",
              " </td>\n",
              " </tr>\n",
              " <tr>\n",
              " <th scope=\"row\">배당수익률 <span class=\"bar\">l</span><span> 2019.12</span>\n",
              " <a alt=\"배당수익률 상세설명\" class=\"help\" href=\"#\"><em>?</em></a>\n",
              " <div class=\"lyr_section\" style=\"display:none\">\n",
              " <div class=\"tooltip_lyr dividend_layer\" id=\"helpPannel5\">\n",
              " <strong>배당수익률 = (배당금 / 현재가) x 100</strong>\n",
              " <p>배당금은 최근 결산연도 기준의 중간배당을 포함한 총 배당금입니다.</p>\n",
              " <span class=\"arrow\"></span>\n",
              " </div>\n",
              " </div>\n",
              " </th>\n",
              " <td>\n",
              " <em id=\"_dvr\">2.42</em>%\n",
              "                 </td>\n",
              " </tr>\n",
              " </table>\n",
              " <table>\n",
              " <tr>\n",
              " <th class=\"strong\" scope=\"row\">매출</th>\n",
              " <!-- <td>22조 1,250억원</td> -->\n",
              " <td class=\"strong\">22,125,034,978,750원</td>\n",
              " </tr>\n",
              " <tr>\n",
              " <th scope=\"row\">비용</th>\n",
              " <!-- <td>19조 2,238억원</td> -->\n",
              " <td>19,223,803,154,781원</td>\n",
              " </tr>\n",
              " <tr>\n",
              " <th scope=\"row\">순익</th>\n",
              " <!-- <td><em id=\"_market_sum\">2조 9,012억원</em></td> -->\n",
              " <td><em id=\"_market_sum\">2,901,231,823,969원</em></td>\n",
              " </tr>\n",
              " </table>\n",
              " </div>]"
            ]
          },
          "metadata": {},
          "execution_count": 4
        }
      ]
    },
    {
      "cell_type": "code",
      "source": [
        "총액정보 = soup.select('.tables')\n",
        "총액정보[0].select('table')[0]"
      ],
      "metadata": {
        "colab": {
          "base_uri": "https://localhost:8080/"
        },
        "id": "i-27NKb7phz0",
        "outputId": "2aa3a017-239b-47e0-9cc8-3f7c901da4a0"
      },
      "execution_count": null,
      "outputs": [
        {
          "output_type": "execute_result",
          "data": {
            "text/plain": [
              "<table class=\"border-style\" summary=\"시가총액 정보\">\n",
              "<tr>\n",
              "<th class=\"strong\" scope=\"row\">시가총액</th>\n",
              "<!-- 공백은 의도적으로 넣은 것입니다. -->\n",
              "<td class=\"strong\"><em id=\"_market_sum\">349조 2,323</em>억원</td>\n",
              "</tr>\n",
              "<tr>\n",
              "<th scope=\"row\">\n",
              "<a class=\"link_site\" href=\"#\">시가총액순위<i class=\"fas fa-caret-right\"></i></a>\n",
              "</th>\n",
              "<!-- 공백은 의도적으로 넣은 것입니다. -->\n",
              "<td>위니브월드 <em id=\"_market_sum\">1</em>위</td>\n",
              "</tr>\n",
              "<tr>\n",
              "<th scope=\"row\">상장주식수</th>\n",
              "<!-- 공백은 의도적으로 넣은 것입니다. -->\n",
              "<td><em id=\"_market_sum\">5,969,782,550</em></td>\n",
              "</tr>\n",
              "</table>"
            ]
          },
          "metadata": {},
          "execution_count": 12
        }
      ]
    },
    {
      "cell_type": "code",
      "source": [
        "총액정보 = soup.select('#_market_sum')\n",
        "총액정보[2].text"
      ],
      "metadata": {
        "colab": {
          "base_uri": "https://localhost:8080/",
          "height": 35
        },
        "id": "zOhlRR4nqiYH",
        "outputId": "25232b0c-43fd-472f-c01f-70353f4c1314"
      },
      "execution_count": null,
      "outputs": [
        {
          "output_type": "execute_result",
          "data": {
            "text/plain": [
              "'5,969,782,550'"
            ],
            "application/vnd.google.colaboratory.intrinsic+json": {
              "type": "string"
            }
          },
          "metadata": {},
          "execution_count": 15
        }
      ]
    },
    {
      "cell_type": "code",
      "source": [
        "import requests\n",
        "from bs4 import BeautifulSoup\n",
        "\n",
        "response = requests.get('https://search.zum.com/search.zum?method=uni&option=accu&rd=1&query=%EC%B5%9C%EC%8B%A0%EC%98%81%ED%99%94&qm=f_typing.top')\n",
        "\n",
        "response.encoding = 'utf-8'\n",
        "html = response.text\n",
        "\n",
        "soup = BeautifulSoup(html, 'html.parser')"
      ],
      "metadata": {
        "id": "pVlpziuzrGdj"
      },
      "execution_count": null,
      "outputs": []
    },
    {
      "cell_type": "code",
      "source": [
        "soup.select('p.title > span')"
      ],
      "metadata": {
        "colab": {
          "base_uri": "https://localhost:8080/"
        },
        "id": "rKdOQpQssVxq",
        "outputId": "e9a5648b-8605-4468-aefb-fb6e31bc08e7"
      },
      "execution_count": null,
      "outputs": [
        {
          "output_type": "execute_result",
          "data": {
            "text/plain": [
              "[<span title=\"칠중주: 홍콩 이야기\">칠중주: 홍콩 이야기</span>,\n",
              " <span title=\"문재인입니다\">문재인입니다</span>,\n",
              " <span title=\"롱디\">롱디</span>,\n",
              " <span title=\"유랑지구2\">유랑지구2</span>,\n",
              " <span title=\"스트리머\">스트리머</span>,\n",
              " <span title=\"가디언즈 오브 갤럭시: Volume 3\">가디언즈 오브 갤럭시: Volume 3</span>,\n",
              " <span title=\"슈퍼 마리오 브라더스\">슈퍼 마리오 브라더스</span>,\n",
              " <span title=\"드림\">드림</span>,\n",
              " <span title=\"존 윅 4\">존 윅 4</span>,\n",
              " <span title=\"스즈메의 문단속\">스즈메의 문단속</span>]"
            ]
          },
          "metadata": {},
          "execution_count": 27
        }
      ]
    },
    {
      "cell_type": "code",
      "source": [
        "for i in soup.select('p.title > span'):\n",
        "    print(i.text)"
      ],
      "metadata": {
        "colab": {
          "base_uri": "https://localhost:8080/"
        },
        "id": "gLVN79SGsrDz",
        "outputId": "c9a75816-af0d-42ca-a226-3c4d3aec6f15"
      },
      "execution_count": null,
      "outputs": [
        {
          "output_type": "stream",
          "name": "stdout",
          "text": [
            "칠중주: 홍콩 이야기\n",
            "문재인입니다\n",
            "롱디\n",
            "유랑지구2\n",
            "스트리머\n",
            "가디언즈 오브 갤럭시: Volume 3\n",
            "슈퍼 마리오 브라더스\n",
            "드림\n",
            "존 윅 4\n",
            "스즈메의 문단속\n"
          ]
        }
      ]
    },
    {
      "cell_type": "code",
      "source": [
        "for i, j in enumerate(soup.select('p.title > span'), 1):\n",
        "    print(i, j.text)"
      ],
      "metadata": {
        "colab": {
          "base_uri": "https://localhost:8080/"
        },
        "id": "EkKJI-CgswRi",
        "outputId": "92b325e8-cd21-463f-c894-5d00ae7701d5"
      },
      "execution_count": null,
      "outputs": [
        {
          "output_type": "stream",
          "name": "stdout",
          "text": [
            "1 칠중주: 홍콩 이야기\n",
            "2 문재인입니다\n",
            "3 롱디\n",
            "4 유랑지구2\n",
            "5 스트리머\n",
            "6 가디언즈 오브 갤럭시: Volume 3\n",
            "7 슈퍼 마리오 브라더스\n",
            "8 드림\n",
            "9 존 윅 4\n",
            "10 스즈메의 문단속\n"
          ]
        }
      ]
    },
    {
      "cell_type": "code",
      "source": [
        "for i in soup.select('.thumb > img'):\n",
        "    print('https:' + i['src'])"
      ],
      "metadata": {
        "colab": {
          "base_uri": "https://localhost:8080/"
        },
        "id": "OmkK-9Z_tdEo",
        "outputId": "6f9082d8-104e-4727-ebcd-999319ff44fb"
      },
      "execution_count": null,
      "outputs": [
        {
          "output_type": "stream",
          "name": "stdout",
          "text": [
            "https://cc.zumst.com/cv2/movie/c15df9263fb2e917fa1d15e7d3bca3b8930505ce28d3d4641fa2252ce036427e.jpg?w=110&h=152&q=90\n",
            "https://cc.zumst.com/cv2/movie/de2674490335079c6b492add654db4d2c0e945afb454b85e3d58219fe0bdd9ef.jpg?w=110&h=152&q=90\n",
            "https://cc.zumst.com/cv2/movie/a44fc6e40c3f6c73cfb22f7a768962538171069b154c905ef339d40aa39f3094.jpg?w=110&h=152&q=90\n",
            "https://cc.zumst.com/cv2/movie/dfea3dea92cf047d108cfff5ebe667a1452f0c5e67c319ba97700588f869902f.jpg?w=110&h=152&q=90\n",
            "https://cc.zumst.com/cv2/movie/4b9bdde9b5cfaeed8c921e6eb0d8d0bfeb37fa36aaccaaad4ca39b9f2c2689bb.jpg?w=110&h=152&q=90\n",
            "https://cc.zumst.com/cv2/movie/c27c5483130f01823998482dc83601947ee88ebb13bce54a7f022c5c16ed941b.jpg?w=110&h=152&q=90\n",
            "https://cc.zumst.com/cv2/movie/847fe41b186a8bbf9e7cac08a6f8ca025d090902c5b17c7779adca8cffb32c21.jpg?w=110&h=152&q=90\n",
            "https://cc.zumst.com/cv2/movie/0d1e24efb772daef66ce598952e01a4fc857003faec26ed751bceaa63903c6f5.jpg?w=110&h=152&q=90\n",
            "https://cc.zumst.com/cv2/movie/ae1930a1e5bc51bf77cbe85358aad1a2a66b392f4c6b54c5665a143f3b241765.jpg?w=110&h=152&q=90\n",
            "https://cc.zumst.com/cv2/movie/11f7ca7df32c46f3e82b67dadd2a15c4282dfb06ad6d5b732275472d860deb5b.jpg?w=110&h=152&q=90\n"
          ]
        }
      ]
    },
    {
      "cell_type": "code",
      "source": [
        "titles = []\n",
        "for i in soup.select('p.title > span'):\n",
        "    titles.append(i.text)\n",
        "\n",
        "imgs = []\n",
        "for i in soup.select('.thumb > img'):\n",
        "    imgs.append('https:' + i['src'])"
      ],
      "metadata": {
        "id": "Z4vMU2h4uAI3"
      },
      "execution_count": null,
      "outputs": []
    },
    {
      "cell_type": "code",
      "source": [
        "with open(\"index.html\", \"w\") as f:\n",
        "    s = '<h1>영화순위</h1>'\n",
        "    for title, img in zip(titles, imgs):\n",
        "        s += f'<h2>{title}</h2>'\n",
        "        s += f'<img src={img}>'\n",
        "    f.write(s)"
      ],
      "metadata": {
        "id": "fCvk3ctLtyqd"
      },
      "execution_count": null,
      "outputs": []
    },
    {
      "cell_type": "markdown",
      "source": [
        "## 연습문제\n",
        "\n",
        "* 제주코딩베이스캠프 연구원에 2019.09.24일 부터 2019.10.23일까지 거래된 거래총량을 구해주세요. (https://paullab.co.kr/stock.html)"
      ],
      "metadata": {
        "id": "-m8azQVvdaNm"
      }
    },
    {
      "cell_type": "markdown",
      "source": [
        "### 여러분들이 푼 풀이"
      ],
      "metadata": {
        "id": "A9prIvp-wAi1"
      }
    },
    {
      "cell_type": "code",
      "source": [
        "import requests\n",
        "from bs4 import BeautifulSoup\n",
        "from datetime import datetime\n",
        "\n",
        "def str_to_datetime(s, char):\n",
        "    result = datetime.strptime(s.replace(char,''), '%Y%m%d')\n",
        "    return result\n",
        "\n",
        "response = requests.get('http://www.paullab.co.kr/stock.html')\n",
        "response.encoding = 'utf-8'\n",
        "html = response.text\n",
        "soup = BeautifulSoup(html, 'html.parser')\n",
        "\n",
        "start_date = datetime.strptime('20190924', '%Y%m%d')\n",
        "end_date = datetime.strptime('20191023', '%Y%m%d')\n",
        "\n",
        "researcher_datas = soup.select('body > .main')[1]\n",
        "# 방법 1\n",
        "# l = researcher_datas.select('tr > td')\n",
        "# date_datas = [str_to_datetime(i.text, '.') for i in l[::7]]\n",
        "# trade_count_datas = [i.text.replace(',', '') for i in l[6::7]]\n",
        "# data_set = list(zip(date_datas, trade_count_datas))\n",
        "\n",
        "# 방법 2\n",
        "l = researcher_datas.select('tr')[1:]\n",
        "data_set = []\n",
        "date = datetime.now\n",
        "trade_count = 0\n",
        "for i in l:\n",
        "    date = str_to_datetime(i.select('td:nth-child(1)')[0].text, '.')\n",
        "    trade_count = int(i.select('td:nth-child(7)')[0].text.replace(',', ''))\n",
        "    data_set.append((date, trade_count))\n",
        "\n",
        "filtered_datas = list(filter(lambda x:x[0] >= start_date and x[0] <= end_date, data_set))\n",
        "# 방법 1로 뽑을 때\n",
        "# print(sum(map(lambda x:int(x[1]), filtered_datas)))\n",
        "# 방법 2로 뽑을 때\n",
        "print(sum(map(lambda x:x[1], filtered_datas)))\n",
        "\n",
        "# 방법 3\n",
        "# date = datetime.now\n",
        "# total_trade_count = 0\n",
        "# for i in l:\n",
        "#     date = str_to_datetime(i.select('td:nth-child(1)')[0].text, '.')\n",
        "#     if date < start_date or date > end_date:\n",
        "#         continue\n",
        "#     total_trade_count += int(i.select('td:nth-child(7)')[0].text.replace(',', ''))\n",
        "# print(total_trade_count)"
      ],
      "metadata": {
        "colab": {
          "base_uri": "https://localhost:8080/"
        },
        "id": "Ul7EwbHDdQsX",
        "outputId": "1b484ba4-1da3-4d34-e335-068ece642412"
      },
      "execution_count": 4,
      "outputs": [
        {
          "output_type": "stream",
          "name": "stdout",
          "text": [
            "13067306\n"
          ]
        }
      ]
    },
    {
      "cell_type": "code",
      "source": [
        "import requests\n",
        "from bs4 import BeautifulSoup\n",
        "\n",
        "response = requests.get('https://paullab.co.kr/stock.html')\n",
        "\n",
        "response.encoding = 'utf-8'\n",
        "html = response.text\n",
        "\n",
        "soup = BeautifulSoup(html, 'html.parser')\n",
        "# nth-child(3)를 사용하는 방법\n",
        "# 자손선택자 선택하는 방법\n",
        "표 = soup.select('body div:nth-child(3) table tr')\n",
        "#필요로 하는 연구원 테이블의 행들을 가져옴\n",
        "거래총액=0\n",
        "for data in 표[1:]: #맨 첫번째 행은 숫자가 아니므로 제외함\n",
        "    항목 = data.select(\".num\") # 행에서 num 클래스 select\n",
        "    거래총액+=int(항목[5].text.replace(',','')) #가장 마지막 값인 거래액을 더함\n",
        "print(거래총액)"
      ],
      "metadata": {
        "colab": {
          "base_uri": "https://localhost:8080/"
        },
        "id": "OWH4EMtcd-ya",
        "outputId": "01785397-d8a7-434b-ffce-eb204e118b31"
      },
      "execution_count": 3,
      "outputs": [
        {
          "output_type": "stream",
          "name": "stdout",
          "text": [
            "13067306\n"
          ]
        }
      ]
    },
    {
      "cell_type": "code",
      "source": [
        "from bs4 import BeautifulSoup\n",
        "import requests\n",
        "from datetime import datetime as dt\n",
        "\n",
        "response = requests.get('http://paullab.synology.me/stock.html')\n",
        "\n",
        "response.encoding = 'utf-8'\n",
        "html = response.text\n",
        "\n",
        "soup = BeautifulSoup(html, 'html.parser')\n",
        "\n",
        "len = [int(i.text.replace(\",\",\"\")) for i in soup.select('h2#제주코딩베이스캠프연구원 + h3 + table > tbody tr td:nth-child(7) span')]\n",
        "trList = soup.select('h2#제주코딩베이스캠프연구원 + h3 + table > tbody tr')\n",
        "# print(trList)\n",
        "datas = [int(i.select('td:nth-child(7) span')[0].text.replace(\",\",\"\")) for i in trList[1:]\n",
        "if dt.strptime(i.select_one('td:nth-child(1) span').text,'%Y.%m.%d') >= dt.strptime(\"2019.09.24\",\"%Y.%m.%d\")\n",
        "if dt.strptime(i.select_one('td:nth-child(1) span').text,'%Y.%m.%d') <= dt.strptime(\"2019.10.23\",\"%Y.%m.%d\")]\n",
        "print(sum(datas))"
      ],
      "metadata": {
        "colab": {
          "base_uri": "https://localhost:8080/"
        },
        "id": "jW7bRXhWdW25",
        "outputId": "ce5434cd-212b-4f4c-8106-ec4fc19da757"
      },
      "execution_count": 7,
      "outputs": [
        {
          "output_type": "stream",
          "name": "stdout",
          "text": [
            "13067306\n"
          ]
        }
      ]
    },
    {
      "cell_type": "code",
      "source": [
        "response = requests.get('http://paullab.synology.me/stock.html')\n",
        "\n",
        "response.encoding = 'utf-8'\n",
        "html = response.text\n",
        "\n",
        "soup = BeautifulSoup(html, 'html.parser')"
      ],
      "metadata": {
        "id": "s1PDXLionO-a"
      },
      "execution_count": null,
      "outputs": []
    },
    {
      "cell_type": "markdown",
      "source": [
        "### 강사의 코드"
      ],
      "metadata": {
        "id": "kskEHywal6vv"
      }
    },
    {
      "cell_type": "code",
      "source": [
        "# 문제를 보면\n",
        "# step 1. 어떤 자료 구조를 사용하여 이 문제를 풀어갈 것인지\n",
        "#         저는 class를 선택\n",
        "class Stock:\n",
        "    def __init__(self,날짜, 종가, 전일비, 시가, 고가, 저가, 거래량):\n",
        "        self.날짜 = 날짜\n",
        "        self.종가 = 종가\n",
        "        self.전일비 = 전일비\n",
        "        self.시가 = 시가\n",
        "        self.고가 = 고가\n",
        "        self.저가 = 저가\n",
        "        self.거래량 = 거래량\n",
        "\n",
        "    def 거래금액(self):\n",
        "        return self.종가 * self.거래량"
      ],
      "metadata": {
        "id": "xfWXoptVmLv1"
      },
      "execution_count": 17,
      "outputs": []
    },
    {
      "cell_type": "code",
      "source": [
        "# step 2. 자료구조가 정해졌으면 함수 아키텍처를 어떤 구조로 가져갈지\n",
        "#         각 함수에 들어가는 파라미터나 아규먼트도 고민을 해야 합니다.\n",
        "\n",
        "from bs4 import BeautifulSoup\n",
        "import requests\n",
        "\n",
        "#1\n",
        "def get_parsing_data():\n",
        "    '''\n",
        "    requests 모듈 사용해서 data를 가져와 bs4로 parsing해주는 함수\n",
        "    '''\n",
        "    pass\n",
        "\n",
        "#2\n",
        "def get_select_data():\n",
        "    '''\n",
        "    parsing된 데이터에서 목적에 맞는 데이터 추출\n",
        "    '''\n",
        "    pass\n",
        "\n",
        "#3\n",
        "def create_instance():\n",
        "    '''\n",
        "    데이터 추출한 것을 인스턴스로 생성\n",
        "    '''\n",
        "    pass\n",
        "\n",
        "#4\n",
        "def sum_data():\n",
        "    '''\n",
        "    인스턴스에서 필요 영역을 다 더할 수 있도록 하는 함수\n",
        "    '''\n",
        "    pass"
      ],
      "metadata": {
        "id": "UyNsBkEMl4M9"
      },
      "execution_count": 12,
      "outputs": []
    },
    {
      "cell_type": "code",
      "source": [
        "# step3 함수 코딩\n",
        "\n",
        "from bs4 import BeautifulSoup\n",
        "import requests\n",
        "\n",
        "def get_parsing_data(url):\n",
        "    response = requests.get(url)\n",
        "    response.encoding = 'utf-8'\n",
        "    html = response.text\n",
        "    soup = BeautifulSoup(html, 'html.parser')\n",
        "    return soup\n",
        "\n",
        "def get_select_data(data, name, location): #company name은 활용하지 않습니다.\n",
        "    return data.select('body > .main > table')[0]\n",
        "\n",
        "def create_instance(datalist, selecdata):\n",
        "    # 날짜 구해주는 함수를 깜빡했는데\n",
        "    # 그대로(슬라이싱으로) 진행하겠습니다.\n",
        "    for i in selecdata.select('tr')[1:]:\n",
        "        # print(i.select('td'))\n",
        "        날짜, 종가, 전일비, 시가, 고가, 저가, 거래량 = i.select('td')\n",
        "        # print(날짜.text.strip(), \n",
        "        #       종가.text.strip(), \n",
        "        #       전일비.text.strip(),\n",
        "        #       시가.text.strip(), \n",
        "        #       고가.text.strip(), \n",
        "        #       저가.text.strip(), \n",
        "        #       거래량.text.strip())\n",
        "        datalist.append(Stock(날짜.text.strip(), \n",
        "              종가.text.strip(), \n",
        "              전일비.text.strip(),\n",
        "              시가.text.strip(), \n",
        "              고가.text.strip(), \n",
        "              저가.text.strip(), \n",
        "              거래량.text.strip()))\n",
        "        # print(날짜, 종가, 전일비)\n",
        "\n",
        "def sum_data():\n",
        "    pass\n",
        "\n",
        "soupdata = get_parsing_data('http://paullab.synology.me/stock.html')\n",
        "selecdata = get_select_data(soupdata, \n",
        "                '제주코딩베이스캠프연구원', \n",
        "                'body > .main > table')\n",
        "datalist = []\n",
        "create_instance(datalist, selecdata)\n",
        "datalist[0].종가"
      ],
      "metadata": {
        "colab": {
          "base_uri": "https://localhost:8080/",
          "height": 35
        },
        "id": "YPP6uWvQoPx8",
        "outputId": "1d998e6d-94b3-483f-9db3-30bee348f628"
      },
      "execution_count": 47,
      "outputs": [
        {
          "output_type": "execute_result",
          "data": {
            "text/plain": [
              "'6,650'"
            ],
            "application/vnd.google.colaboratory.intrinsic+json": {
              "type": "string"
            }
          },
          "metadata": {},
          "execution_count": 47
        }
      ]
    },
    {
      "cell_type": "markdown",
      "source": [
        "### 일반적인 풀이"
      ],
      "metadata": {
        "id": "mUMWkOEFv4m1"
      }
    },
    {
      "cell_type": "code",
      "source": [
        "response = requests.get('http://paullab.synology.me/stock.html')\n",
        "\n",
        "response.encoding = 'utf-8'\n",
        "html = response.text\n",
        "\n",
        "soup = BeautifulSoup(html, 'html.parser')\n",
        "\n",
        "data = soup.select('body > .main > table')[0]\n",
        "\n",
        "for i in data.select('tr')[1:]:\n",
        "    for j in i.select('td'):\n",
        "        print(j.text.strip())\n",
        "    print('----')"
      ],
      "metadata": {
        "id": "GNP0CujKplFU"
      },
      "execution_count": null,
      "outputs": []
    },
    {
      "cell_type": "code",
      "source": [
        "response = requests.get('http://paullab.synology.me/stock.html')\n",
        "\n",
        "response.encoding = 'utf-8'\n",
        "html = response.text\n",
        "\n",
        "soup = BeautifulSoup(html, 'html.parser')\n",
        "\n",
        "data = soup.select('body > .main > table')[0]\n",
        "\n",
        "for i in data.select('tr')[1:]:\n",
        "    print(i.select('td:nth-child(7)'))"
      ],
      "metadata": {
        "colab": {
          "base_uri": "https://localhost:8080/"
        },
        "id": "dwHMco4TtlYQ",
        "outputId": "d872e481-9819-42ef-8221-77f50d437e9f"
      },
      "execution_count": 36,
      "outputs": [
        {
          "output_type": "stream",
          "name": "stdout",
          "text": [
            "[<td class=\"num\"><span>398,421</span></td>]\n",
            "[<td class=\"num\"><span>919,571</span></td>]\n",
            "[<td class=\"num\"><span>1,678,055</span></td>]\n",
            "[<td class=\"num\"><span>2,168,857</span></td>]\n",
            "[<td class=\"num\"><span>1,982,922</span></td>]\n",
            "[<td class=\"num\"><span>839,434</span></td>]\n",
            "[<td class=\"num\"><span>702,104</span></td>]\n",
            "[<td class=\"num\"><span>764,800</span></td>]\n",
            "[<td class=\"num\"><span>134,558</span></td>]\n",
            "[<td class=\"num\"><span>288,563</span></td>]\n",
            "[<td class=\"num\"><span>223,839</span></td>]\n",
            "[<td class=\"num\"><span>199,580</span></td>]\n",
            "[<td class=\"num\"><span>188,467</span></td>]\n",
            "[<td class=\"num\"><span>160,510</span></td>]\n",
            "[<td class=\"num\"><span>246,145</span></td>]\n",
            "[<td class=\"num\"><span>705,046</span></td>]\n",
            "[<td class=\"num\"><span>408,859</span></td>]\n",
            "[<td class=\"num\"><span>404,633</span></td>]\n",
            "[<td class=\"num\"><span>441,923</span></td>]\n",
            "[<td class=\"num\"><span>211,019</span></td>]\n"
          ]
        }
      ]
    },
    {
      "cell_type": "code",
      "source": [
        "response = requests.get('http://paullab.synology.me/stock.html')\n",
        "\n",
        "response.encoding = 'utf-8'\n",
        "html = response.text\n",
        "\n",
        "soup = BeautifulSoup(html, 'html.parser')\n",
        "\n",
        "data = soup.select('body > .main > table')[0]\n",
        "\n",
        "result = []\n",
        "for i in data.select('tr')[1:]:\n",
        "    result.append(int(i.select('td:nth-child(7)')[0].text.replace(',', '')))\n",
        "\n",
        "sum(result)"
      ],
      "metadata": {
        "colab": {
          "base_uri": "https://localhost:8080/"
        },
        "id": "OSQrDg5Ot2MO",
        "outputId": "e7f66702-f1d4-45d2-cd1b-50b9ed2243c5"
      },
      "execution_count": 38,
      "outputs": [
        {
          "output_type": "execute_result",
          "data": {
            "text/plain": [
              "13067306"
            ]
          },
          "metadata": {},
          "execution_count": 38
        }
      ]
    }
  ]
}