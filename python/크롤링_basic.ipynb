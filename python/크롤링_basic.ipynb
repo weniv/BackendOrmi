{
  "nbformat": 4,
  "nbformat_minor": 0,
  "metadata": {
    "colab": {
      "provenance": []
    },
    "kernelspec": {
      "name": "python3",
      "display_name": "Python 3"
    },
    "language_info": {
      "name": "python"
    }
  },
  "cells": [
    {
      "cell_type": "code",
      "source": [
        "# 크롤링, 웹 스크래핑 : 웹에 있는 데이터를 가지고 온다!"
      ],
      "metadata": {
        "id": "qtDkwCVsnKaH"
      },
      "execution_count": null,
      "outputs": []
    },
    {
      "cell_type": "code",
      "execution_count": null,
      "metadata": {
        "id": "KoAgzHoumC33"
      },
      "outputs": [],
      "source": [
        "# 데이터를 가져오는 라이브러리 : requests\n",
        "# 가져온 데이터를 가공하는 라이브러리 : beautifulsoup"
      ]
    },
    {
      "cell_type": "code",
      "source": [
        "# 크롤링대상 : https://paullab.co.kr/stock.html"
      ],
      "metadata": {
        "id": "wM2BcwUUn-sg"
      },
      "execution_count": null,
      "outputs": []
    },
    {
      "cell_type": "code",
      "source": [
        "import requests\n",
        "from bs4 import BeautifulSoup\n",
        "\n",
        "response = requests.get('http://www.paullab.co.kr/stock.html')\n",
        "\n",
        "response.encoding = 'utf-8'\n",
        "html = response.text\n",
        "\n",
        "soup = BeautifulSoup(html, 'html.parser')"
      ],
      "metadata": {
        "id": "9pxzR4uXoHHc"
      },
      "execution_count": 1,
      "outputs": []
    },
    {
      "cell_type": "code",
      "source": [
        "html"
      ],
      "metadata": {
        "id": "B_3v3eImoNv-"
      },
      "execution_count": null,
      "outputs": []
    },
    {
      "cell_type": "code",
      "source": [
        "soup.title"
      ],
      "metadata": {
        "colab": {
          "base_uri": "https://localhost:8080/"
        },
        "id": "V2BpNKC8ozdy",
        "outputId": "78c2f626-016d-4e29-c78e-55c06a0a96a8"
      },
      "execution_count": 3,
      "outputs": [
        {
          "output_type": "execute_result",
          "data": {
            "text/plain": [
              "<title>Document</title>"
            ]
          },
          "metadata": {},
          "execution_count": 3
        }
      ]
    },
    {
      "cell_type": "code",
      "source": [
        "soup.select('.tables')"
      ],
      "metadata": {
        "colab": {
          "base_uri": "https://localhost:8080/"
        },
        "id": "VcwLWTJ6pQLP",
        "outputId": "15a9a258-8130-4339-8d2b-c31b46905aaa"
      },
      "execution_count": 4,
      "outputs": [
        {
          "output_type": "execute_result",
          "data": {
            "text/plain": [
              "[<div class=\"tables\">\n",
              " <table class=\"border-style\" summary=\"시가총액 정보\">\n",
              " <tr>\n",
              " <th class=\"strong\" scope=\"row\">시가총액</th>\n",
              " <!-- 공백은 의도적으로 넣은 것입니다. -->\n",
              " <td class=\"strong\"><em id=\"_market_sum\">349조 2,323</em>억원</td>\n",
              " </tr>\n",
              " <tr>\n",
              " <th scope=\"row\">\n",
              " <a class=\"link_site\" href=\"#\">시가총액순위<i class=\"fas fa-caret-right\"></i></a>\n",
              " </th>\n",
              " <!-- 공백은 의도적으로 넣은 것입니다. -->\n",
              " <td>위니브월드 <em id=\"_market_sum\">1</em>위</td>\n",
              " </tr>\n",
              " <tr>\n",
              " <th scope=\"row\">상장주식수</th>\n",
              " <!-- 공백은 의도적으로 넣은 것입니다. -->\n",
              " <td><em id=\"_market_sum\">5,969,782,550</em></td>\n",
              " </tr>\n",
              " </table>\n",
              " <table class=\"border-style\" summary=\"업종상세 정보\">\n",
              " <tr>\n",
              " <th class=\"strong\" scope=\"row\">현재가</th>\n",
              " <td class=\"strong\"><em id=\"_market_sum\">349조 2,323</em>억원</td>\n",
              " </tr>\n",
              " <tr>\n",
              " <th scope=\"row\">52주 최고 <span class=\"bar\">l</span> 최저</th>\n",
              " <td>\n",
              " <em>62,800</em>\n",
              " <span class=\"bar\">l</span>\n",
              " <em>42,300</em>\n",
              " </td>\n",
              " </tr>\n",
              " <tr>\n",
              " <th scope=\"row\">배당수익률 <span class=\"bar\">l</span><span> 2019.12</span>\n",
              " <a alt=\"배당수익률 상세설명\" class=\"help\" href=\"#\"><em>?</em></a>\n",
              " <div class=\"lyr_section\" style=\"display:none\">\n",
              " <div class=\"tooltip_lyr dividend_layer\" id=\"helpPannel5\">\n",
              " <strong>배당수익률 = (배당금 / 현재가) x 100</strong>\n",
              " <p>배당금은 최근 결산연도 기준의 중간배당을 포함한 총 배당금입니다.</p>\n",
              " <span class=\"arrow\"></span>\n",
              " </div>\n",
              " </div>\n",
              " </th>\n",
              " <td>\n",
              " <em id=\"_dvr\">2.42</em>%\n",
              "                 </td>\n",
              " </tr>\n",
              " </table>\n",
              " <table>\n",
              " <tr>\n",
              " <th class=\"strong\" scope=\"row\">매출</th>\n",
              " <!-- <td>22조 1,250억원</td> -->\n",
              " <td class=\"strong\">22,125,034,978,750원</td>\n",
              " </tr>\n",
              " <tr>\n",
              " <th scope=\"row\">비용</th>\n",
              " <!-- <td>19조 2,238억원</td> -->\n",
              " <td>19,223,803,154,781원</td>\n",
              " </tr>\n",
              " <tr>\n",
              " <th scope=\"row\">순익</th>\n",
              " <!-- <td><em id=\"_market_sum\">2조 9,012억원</em></td> -->\n",
              " <td><em id=\"_market_sum\">2,901,231,823,969원</em></td>\n",
              " </tr>\n",
              " </table>\n",
              " </div>]"
            ]
          },
          "metadata": {},
          "execution_count": 4
        }
      ]
    },
    {
      "cell_type": "code",
      "source": [
        "총액정보 = soup.select('.tables')\n",
        "총액정보[0].select('table')[0]"
      ],
      "metadata": {
        "colab": {
          "base_uri": "https://localhost:8080/"
        },
        "id": "i-27NKb7phz0",
        "outputId": "2aa3a017-239b-47e0-9cc8-3f7c901da4a0"
      },
      "execution_count": 12,
      "outputs": [
        {
          "output_type": "execute_result",
          "data": {
            "text/plain": [
              "<table class=\"border-style\" summary=\"시가총액 정보\">\n",
              "<tr>\n",
              "<th class=\"strong\" scope=\"row\">시가총액</th>\n",
              "<!-- 공백은 의도적으로 넣은 것입니다. -->\n",
              "<td class=\"strong\"><em id=\"_market_sum\">349조 2,323</em>억원</td>\n",
              "</tr>\n",
              "<tr>\n",
              "<th scope=\"row\">\n",
              "<a class=\"link_site\" href=\"#\">시가총액순위<i class=\"fas fa-caret-right\"></i></a>\n",
              "</th>\n",
              "<!-- 공백은 의도적으로 넣은 것입니다. -->\n",
              "<td>위니브월드 <em id=\"_market_sum\">1</em>위</td>\n",
              "</tr>\n",
              "<tr>\n",
              "<th scope=\"row\">상장주식수</th>\n",
              "<!-- 공백은 의도적으로 넣은 것입니다. -->\n",
              "<td><em id=\"_market_sum\">5,969,782,550</em></td>\n",
              "</tr>\n",
              "</table>"
            ]
          },
          "metadata": {},
          "execution_count": 12
        }
      ]
    },
    {
      "cell_type": "code",
      "source": [
        "총액정보 = soup.select('#_market_sum')\n",
        "총액정보[2].text"
      ],
      "metadata": {
        "colab": {
          "base_uri": "https://localhost:8080/",
          "height": 35
        },
        "id": "zOhlRR4nqiYH",
        "outputId": "25232b0c-43fd-472f-c01f-70353f4c1314"
      },
      "execution_count": 15,
      "outputs": [
        {
          "output_type": "execute_result",
          "data": {
            "text/plain": [
              "'5,969,782,550'"
            ],
            "application/vnd.google.colaboratory.intrinsic+json": {
              "type": "string"
            }
          },
          "metadata": {},
          "execution_count": 15
        }
      ]
    },
    {
      "cell_type": "code",
      "source": [
        "import requests\n",
        "from bs4 import BeautifulSoup\n",
        "\n",
        "response = requests.get('https://search.zum.com/search.zum?method=uni&option=accu&rd=1&query=%EC%B5%9C%EC%8B%A0%EC%98%81%ED%99%94&qm=f_typing.top')\n",
        "\n",
        "response.encoding = 'utf-8'\n",
        "html = response.text\n",
        "\n",
        "soup = BeautifulSoup(html, 'html.parser')"
      ],
      "metadata": {
        "id": "pVlpziuzrGdj"
      },
      "execution_count": 16,
      "outputs": []
    },
    {
      "cell_type": "code",
      "source": [
        "soup.select('p.title > span')"
      ],
      "metadata": {
        "colab": {
          "base_uri": "https://localhost:8080/"
        },
        "id": "rKdOQpQssVxq",
        "outputId": "e9a5648b-8605-4468-aefb-fb6e31bc08e7"
      },
      "execution_count": 27,
      "outputs": [
        {
          "output_type": "execute_result",
          "data": {
            "text/plain": [
              "[<span title=\"칠중주: 홍콩 이야기\">칠중주: 홍콩 이야기</span>,\n",
              " <span title=\"문재인입니다\">문재인입니다</span>,\n",
              " <span title=\"롱디\">롱디</span>,\n",
              " <span title=\"유랑지구2\">유랑지구2</span>,\n",
              " <span title=\"스트리머\">스트리머</span>,\n",
              " <span title=\"가디언즈 오브 갤럭시: Volume 3\">가디언즈 오브 갤럭시: Volume 3</span>,\n",
              " <span title=\"슈퍼 마리오 브라더스\">슈퍼 마리오 브라더스</span>,\n",
              " <span title=\"드림\">드림</span>,\n",
              " <span title=\"존 윅 4\">존 윅 4</span>,\n",
              " <span title=\"스즈메의 문단속\">스즈메의 문단속</span>]"
            ]
          },
          "metadata": {},
          "execution_count": 27
        }
      ]
    },
    {
      "cell_type": "code",
      "source": [
        "for i in soup.select('p.title > span'):\n",
        "    print(i.text)"
      ],
      "metadata": {
        "colab": {
          "base_uri": "https://localhost:8080/"
        },
        "id": "gLVN79SGsrDz",
        "outputId": "c9a75816-af0d-42ca-a226-3c4d3aec6f15"
      },
      "execution_count": 28,
      "outputs": [
        {
          "output_type": "stream",
          "name": "stdout",
          "text": [
            "칠중주: 홍콩 이야기\n",
            "문재인입니다\n",
            "롱디\n",
            "유랑지구2\n",
            "스트리머\n",
            "가디언즈 오브 갤럭시: Volume 3\n",
            "슈퍼 마리오 브라더스\n",
            "드림\n",
            "존 윅 4\n",
            "스즈메의 문단속\n"
          ]
        }
      ]
    },
    {
      "cell_type": "code",
      "source": [
        "for i, j in enumerate(soup.select('p.title > span'), 1):\n",
        "    print(i, j.text)"
      ],
      "metadata": {
        "colab": {
          "base_uri": "https://localhost:8080/"
        },
        "id": "EkKJI-CgswRi",
        "outputId": "92b325e8-cd21-463f-c894-5d00ae7701d5"
      },
      "execution_count": 31,
      "outputs": [
        {
          "output_type": "stream",
          "name": "stdout",
          "text": [
            "1 칠중주: 홍콩 이야기\n",
            "2 문재인입니다\n",
            "3 롱디\n",
            "4 유랑지구2\n",
            "5 스트리머\n",
            "6 가디언즈 오브 갤럭시: Volume 3\n",
            "7 슈퍼 마리오 브라더스\n",
            "8 드림\n",
            "9 존 윅 4\n",
            "10 스즈메의 문단속\n"
          ]
        }
      ]
    },
    {
      "cell_type": "code",
      "source": [
        "for i in soup.select('.thumb > img'):\n",
        "    print('https:' + i['src'])"
      ],
      "metadata": {
        "colab": {
          "base_uri": "https://localhost:8080/"
        },
        "id": "OmkK-9Z_tdEo",
        "outputId": "6f9082d8-104e-4727-ebcd-999319ff44fb"
      },
      "execution_count": 34,
      "outputs": [
        {
          "output_type": "stream",
          "name": "stdout",
          "text": [
            "https://cc.zumst.com/cv2/movie/c15df9263fb2e917fa1d15e7d3bca3b8930505ce28d3d4641fa2252ce036427e.jpg?w=110&h=152&q=90\n",
            "https://cc.zumst.com/cv2/movie/de2674490335079c6b492add654db4d2c0e945afb454b85e3d58219fe0bdd9ef.jpg?w=110&h=152&q=90\n",
            "https://cc.zumst.com/cv2/movie/a44fc6e40c3f6c73cfb22f7a768962538171069b154c905ef339d40aa39f3094.jpg?w=110&h=152&q=90\n",
            "https://cc.zumst.com/cv2/movie/dfea3dea92cf047d108cfff5ebe667a1452f0c5e67c319ba97700588f869902f.jpg?w=110&h=152&q=90\n",
            "https://cc.zumst.com/cv2/movie/4b9bdde9b5cfaeed8c921e6eb0d8d0bfeb37fa36aaccaaad4ca39b9f2c2689bb.jpg?w=110&h=152&q=90\n",
            "https://cc.zumst.com/cv2/movie/c27c5483130f01823998482dc83601947ee88ebb13bce54a7f022c5c16ed941b.jpg?w=110&h=152&q=90\n",
            "https://cc.zumst.com/cv2/movie/847fe41b186a8bbf9e7cac08a6f8ca025d090902c5b17c7779adca8cffb32c21.jpg?w=110&h=152&q=90\n",
            "https://cc.zumst.com/cv2/movie/0d1e24efb772daef66ce598952e01a4fc857003faec26ed751bceaa63903c6f5.jpg?w=110&h=152&q=90\n",
            "https://cc.zumst.com/cv2/movie/ae1930a1e5bc51bf77cbe85358aad1a2a66b392f4c6b54c5665a143f3b241765.jpg?w=110&h=152&q=90\n",
            "https://cc.zumst.com/cv2/movie/11f7ca7df32c46f3e82b67dadd2a15c4282dfb06ad6d5b732275472d860deb5b.jpg?w=110&h=152&q=90\n"
          ]
        }
      ]
    },
    {
      "cell_type": "code",
      "source": [
        "titles = []\n",
        "for i in soup.select('p.title > span'):\n",
        "    titles.append(i.text)\n",
        "\n",
        "imgs = []\n",
        "for i in soup.select('.thumb > img'):\n",
        "    imgs.append('https:' + i['src'])"
      ],
      "metadata": {
        "id": "Z4vMU2h4uAI3"
      },
      "execution_count": 36,
      "outputs": []
    },
    {
      "cell_type": "code",
      "source": [
        "with open(\"index.html\", \"w\") as f:\n",
        "    s = '<h1>영화순위</h1>'\n",
        "    for title, img in zip(titles, imgs):\n",
        "        s += f'<h2>{title}</h2>'\n",
        "        s += f'<img src={img}>'\n",
        "    f.write(s)"
      ],
      "metadata": {
        "id": "fCvk3ctLtyqd"
      },
      "execution_count": 37,
      "outputs": []
    }
  ]
}