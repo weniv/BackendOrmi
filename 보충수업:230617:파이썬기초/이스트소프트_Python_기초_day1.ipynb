{
  "nbformat": 4,
  "nbformat_minor": 0,
  "metadata": {
    "colab": {
      "provenance": []
    },
    "kernelspec": {
      "name": "python3",
      "display_name": "Python 3"
    },
    "language_info": {
      "name": "python"
    }
  },
  "cells": [
    {
      "cell_type": "markdown",
      "source": [
        "# Python 기본"
      ],
      "metadata": {
        "id": "O0wRHepmtMIH"
      }
    },
    {
      "cell_type": "markdown",
      "source": [
        "파이썬\n",
        "- 2점대, 3점대\n",
        "- 2점대로 서비스 운영 -> 서포트 중지\n",
        " - 인코딩\n",
        " - 함수들, 기능들 ...\n",
        "\n",
        "- 현재 실습 환경: 3점대"
      ],
      "metadata": {
        "id": "00yuZaN-teTz"
      }
    },
    {
      "cell_type": "code",
      "source": [
        "! python --version"
      ],
      "metadata": {
        "colab": {
          "base_uri": "https://localhost:8080/"
        },
        "id": "LKKnPoC9o1P6",
        "outputId": "d38f9ee3-2da3-406a-8a3b-d85aa446a85c"
      },
      "execution_count": 1,
      "outputs": [
        {
          "output_type": "stream",
          "name": "stdout",
          "text": [
            "Python 3.10.12\n"
          ]
        }
      ]
    },
    {
      "cell_type": "markdown",
      "source": [
        "# 주석\n",
        "\n",
        "- 한 줄 주석: #\n",
        "- 여러 줄 주석: ''' ''', \"\"\" \"\"\"\n",
        "- 에디터 단축키: ctrl, cmd + /\n",
        "- 주석을 남길 때 에러 발생하지 않게 하기"
      ],
      "metadata": {
        "id": "VcFCjC88uWCQ"
      }
    },
    {
      "cell_type": "code",
      "source": [
        "def add(num1, num2):\n",
        "  '''\n",
        "  숫자 합을 구하는 함수입니다.\n",
        "  '''\n",
        "  return num1 + num2\n",
        "\n",
        "print(add(1, 2))"
      ],
      "metadata": {
        "colab": {
          "base_uri": "https://localhost:8080/"
        },
        "id": "fogqgKKyo1N8",
        "outputId": "42e4a683-5583-4935-842e-c07449951db0"
      },
      "execution_count": 2,
      "outputs": [
        {
          "output_type": "stream",
          "name": "stdout",
          "text": [
            "3\n"
          ]
        }
      ]
    },
    {
      "cell_type": "code",
      "source": [
        "def add2(num1, num2):\n",
        "  '''\n",
        "  숫자 합을 구하는 함수입니다.\n",
        "  '''\n",
        "  return num1 + num2\n",
        "\n",
        "print(add2(1, 2))"
      ],
      "metadata": {
        "colab": {
          "base_uri": "https://localhost:8080/"
        },
        "id": "gpvjCGY7o1Lr",
        "outputId": "072a7a67-1765-4cb0-8d64-ca9af1c30a91"
      },
      "execution_count": 4,
      "outputs": [
        {
          "output_type": "stream",
          "name": "stdout",
          "text": [
            "3\n"
          ]
        }
      ]
    },
    {
      "cell_type": "markdown",
      "source": [
        "# 변수\n",
        "\n",
        "- 변수: 변할 수 있는 값 -> 소문자 (상수 -> 대문자로 선언)\n",
        "- 상자 -> 값을 담아줄 수 있다. -> 변수를 선언한다.\n",
        "- var = 1 (할당 연산자) / ==\n",
        "- 변수는 값을 가리키는 것\n",
        "\n",
        "\n",
        "변수 이름\n",
        "- _(언더바)나 영문자로 시작해야합니다.\n",
        "- 숫자로 시작할 수 없습니다.\n",
        "- 특수문자(언더바 제외)는 사용할 수 없습니다.\n",
        "- add num -> add_num (addNum)\n",
        "- 예약어로 변수명을 사용할 수 없습니다. (for, it .. )\n",
        "- 이 규칙을 지키지 않을 경우 오류가 발생하기도 합니다.\n",
        "\n",
        "변수 선언\n",
        "- 변수를 선언할 때 값을 넣어주어야 합니다.\n",
        " - 변수 선언 시, 값을 넣어주는 것 -> 자료형 자체가 지정된다.\n",
        " - 변수 = 값 -> 왼쪽에는 무조건 변수, 오른쪽에는 값, 변수, 수식, 함수 등\n",
        "\n",
        "변수 타입\n",
        "- int, float, string, bool\n",
        "- type(변수명)"
      ],
      "metadata": {
        "id": "7tZzizpXveXP"
      }
    },
    {
      "cell_type": "code",
      "source": [
        "book = 'weniv'"
      ],
      "metadata": {
        "id": "Zdmi2nC2o1Jq"
      },
      "execution_count": 5,
      "outputs": []
    },
    {
      "cell_type": "code",
      "source": [
        "type(book)"
      ],
      "metadata": {
        "colab": {
          "base_uri": "https://localhost:8080/"
        },
        "id": "-xabKJVko1H3",
        "outputId": "5bcb17b7-079e-47df-a6f9-00eee6f51a4c"
      },
      "execution_count": 6,
      "outputs": [
        {
          "output_type": "execute_result",
          "data": {
            "text/plain": [
              "str"
            ]
          },
          "metadata": {},
          "execution_count": 6
        }
      ]
    },
    {
      "cell_type": "code",
      "source": [
        "# 변수 연속 할당\n",
        "\n",
        "var1 = var2 = var3 = var4 = 10"
      ],
      "metadata": {
        "id": "YPThqcGBo1DE"
      },
      "execution_count": 7,
      "outputs": []
    },
    {
      "cell_type": "code",
      "source": [
        "print(var1)"
      ],
      "metadata": {
        "colab": {
          "base_uri": "https://localhost:8080/"
        },
        "id": "CTHJLf4_o1BI",
        "outputId": "229bbdfd-419b-48c4-800b-89440973a66f"
      },
      "execution_count": 9,
      "outputs": [
        {
          "output_type": "stream",
          "name": "stdout",
          "text": [
            "10\n"
          ]
        }
      ]
    },
    {
      "cell_type": "code",
      "source": [
        "print(id(var1))\n",
        "print(id(var2))\n",
        "print(id(var3))\n",
        "print(id(var4))\n",
        "# 파이썬에서는 정수형(int) 중에서 자주 사용될 것 같은 값들은 미리 메모리에 올려두고\n",
        "# 메모리를 효율적으로 사용하기 위해서 같은 위치를 사용합니다."
      ],
      "metadata": {
        "colab": {
          "base_uri": "https://localhost:8080/"
        },
        "id": "rWzUF6VGo0_I",
        "outputId": "1822dbe2-5d44-4ff2-c867-1de4af732e65"
      },
      "execution_count": 11,
      "outputs": [
        {
          "output_type": "stream",
          "name": "stdout",
          "text": [
            "140135681966608\n",
            "140135681966608\n",
            "140135681966608\n",
            "140135681966608\n"
          ]
        }
      ]
    },
    {
      "cell_type": "code",
      "source": [
        "# 변수 연산 결과를 다시 사용하기\n",
        "x1 = 10\n",
        "x1 = x1 + 10\n",
        "\n",
        "x2 = 20\n",
        "x2 = x2 + x2"
      ],
      "metadata": {
        "id": "TN98q34Bo09m"
      },
      "execution_count": 12,
      "outputs": []
    },
    {
      "cell_type": "code",
      "source": [
        "print(x1)"
      ],
      "metadata": {
        "colab": {
          "base_uri": "https://localhost:8080/"
        },
        "id": "x2WLHAJ3o07B",
        "outputId": "1b5ce644-db4f-480c-d4ec-475ae2461fbd"
      },
      "execution_count": 13,
      "outputs": [
        {
          "output_type": "stream",
          "name": "stdout",
          "text": [
            "20\n"
          ]
        }
      ]
    },
    {
      "cell_type": "code",
      "source": [
        "print(x2)"
      ],
      "metadata": {
        "colab": {
          "base_uri": "https://localhost:8080/"
        },
        "id": "Jd9YI1mvo045",
        "outputId": "54ba5bd8-7684-4d73-b17e-ec7076d6d2d4"
      },
      "execution_count": 14,
      "outputs": [
        {
          "output_type": "stream",
          "name": "stdout",
          "text": [
            "40\n"
          ]
        }
      ]
    },
    {
      "cell_type": "code",
      "source": [
        "x3 = 20"
      ],
      "metadata": {
        "id": "wOLw-7zno021"
      },
      "execution_count": 15,
      "outputs": []
    },
    {
      "cell_type": "code",
      "source": [
        "print(id(x1))\n",
        "print(id(x3))"
      ],
      "metadata": {
        "colab": {
          "base_uri": "https://localhost:8080/"
        },
        "id": "ruIFh_BHo00u",
        "outputId": "856eb67c-1efa-4cac-d0c1-2fd2d55f6d83"
      },
      "execution_count": 16,
      "outputs": [
        {
          "output_type": "stream",
          "name": "stdout",
          "text": [
            "140135681966928\n",
            "140135681966928\n"
          ]
        }
      ]
    },
    {
      "cell_type": "markdown",
      "source": [
        "# 자료형"
      ],
      "metadata": {
        "id": "06AxGk3K0XwX"
      }
    },
    {
      "cell_type": "markdown",
      "source": [
        "## 숫자형\n",
        "\n",
        "- int, float(, complex)\n",
        "- int: 정수(10진수), 2진수, 8진수, 16진수\n",
        "- float: 실수\n",
        "- complex: 복소수"
      ],
      "metadata": {
        "id": "dJgdrqGs0Zh7"
      }
    },
    {
      "cell_type": "markdown",
      "source": [
        "### int"
      ],
      "metadata": {
        "id": "iNWcsbthA5tt"
      }
    },
    {
      "cell_type": "code",
      "source": [
        "int_a = 30\n",
        "int_b = 0b100\n",
        "int_c = 0o56\n",
        "int_d = 0xAC"
      ],
      "metadata": {
        "id": "dwA9Zje7o0yY"
      },
      "execution_count": 18,
      "outputs": []
    },
    {
      "cell_type": "code",
      "source": [
        "print(type(int_a))\n",
        "print(type(int_b))\n",
        "print(type(int_c))\n",
        "print(type(int_d))"
      ],
      "metadata": {
        "colab": {
          "base_uri": "https://localhost:8080/"
        },
        "id": "2EUlNzWHo0wT",
        "outputId": "8d559a41-b639-4298-cc10-3e59a2ed5d6c"
      },
      "execution_count": 19,
      "outputs": [
        {
          "output_type": "stream",
          "name": "stdout",
          "text": [
            "<class 'int'>\n",
            "<class 'int'>\n",
            "<class 'int'>\n",
            "<class 'int'>\n"
          ]
        }
      ]
    },
    {
      "cell_type": "markdown",
      "source": [
        "### float"
      ],
      "metadata": {
        "id": "heteOa9jA8Ht"
      }
    },
    {
      "cell_type": "code",
      "source": [
        "float_a = 3.14"
      ],
      "metadata": {
        "id": "CmMUrEomo0uN"
      },
      "execution_count": 20,
      "outputs": []
    },
    {
      "cell_type": "code",
      "source": [
        "print(type(float_a))"
      ],
      "metadata": {
        "colab": {
          "base_uri": "https://localhost:8080/"
        },
        "id": "inBnYq8ko0sH",
        "outputId": "8635d7f0-865f-4412-b063-4c16c7ccc8a0"
      },
      "execution_count": 21,
      "outputs": [
        {
          "output_type": "stream",
          "name": "stdout",
          "text": [
            "<class 'float'>\n"
          ]
        }
      ]
    },
    {
      "cell_type": "markdown",
      "source": [
        "### complex"
      ],
      "metadata": {
        "id": "yfnc4Bb9A9z3"
      }
    },
    {
      "cell_type": "code",
      "source": [
        "com_a = 4-4j"
      ],
      "metadata": {
        "id": "4GXF0JePo0qM"
      },
      "execution_count": 22,
      "outputs": []
    },
    {
      "cell_type": "code",
      "source": [
        "print(type(com_a))"
      ],
      "metadata": {
        "colab": {
          "base_uri": "https://localhost:8080/"
        },
        "id": "G6Trpn8do0oO",
        "outputId": "c639607f-94c4-41c4-bc63-317b356af7a4"
      },
      "execution_count": 23,
      "outputs": [
        {
          "output_type": "stream",
          "name": "stdout",
          "text": [
            "<class 'complex'>\n"
          ]
        }
      ]
    },
    {
      "cell_type": "markdown",
      "source": [
        "### 연산자\n",
        "\n",
        "- 연산자: 산술연산자, 대입연산자(할당연산자), 비교연산자, 논리연산자, 비트연산자, 멤버연산자, 식별연산자\n"
      ],
      "metadata": {
        "id": "Wm5585Vm3yw4"
      }
    },
    {
      "cell_type": "markdown",
      "source": [
        "#### 산술연산자\n",
        "\n",
        "- 덧셈, 뺄셈, 곱셈, 나눗셈, 제곱, 몫, 나머지"
      ],
      "metadata": {
        "id": "S24u3b-M4J5h"
      }
    },
    {
      "cell_type": "code",
      "source": [
        "num1 = 25\n",
        "num2 = 40\n",
        "\n",
        "print(num1 + num2)\n",
        "print(num1 - num2)\n",
        "print(num1 * num2)\n",
        "print(num1 / num2)  # 나누기 -> 실수값으로 몫을 최대한 구한다.\n",
        "print(num1 // num2) # 몫 -> 정수부분까지만\n",
        "print(num1 % num2)  # 정수부분까지 몫을 구한 뒤, 그 나머지\n",
        "print(num1 ** num2)"
      ],
      "metadata": {
        "colab": {
          "base_uri": "https://localhost:8080/"
        },
        "id": "h7y9VIQ94JCr",
        "outputId": "37d9fe25-8651-4d97-93d7-375e4630bf85"
      },
      "execution_count": 24,
      "outputs": [
        {
          "output_type": "stream",
          "name": "stdout",
          "text": [
            "65\n",
            "-15\n",
            "1000\n",
            "0.625\n",
            "0\n",
            "25\n"
          ]
        }
      ]
    },
    {
      "cell_type": "code",
      "source": [
        "# 나머지 값 활용 -> 문제 풀때 유용하게 사용할 수 있다.\n",
        "\n",
        "# 짝수 홀수 -> 값 % 2 == 0: 짝수 / 값 % 2 != 0: 홀수\n",
        "# 배수 약수 -> 값 % 5 == 0: 5의 배수\n",
        "\n",
        "# 두 칸씩 이동"
      ],
      "metadata": {
        "id": "lN9nZsm43ydH"
      },
      "execution_count": null,
      "outputs": []
    },
    {
      "cell_type": "markdown",
      "source": [
        "#### 비교 연산자\n",
        "\n",
        "- \">, <, >=, <=, ==, !=\"\n",
        "- boolean 으로 리턴"
      ],
      "metadata": {
        "id": "O8NQFuSN6Cw1"
      }
    },
    {
      "cell_type": "code",
      "source": [
        "print(3 > 0)"
      ],
      "metadata": {
        "colab": {
          "base_uri": "https://localhost:8080/"
        },
        "id": "oC4pBgyfo0mM",
        "outputId": "2f077f26-1dbc-4cbc-9fca-dc3a83ee0c2a"
      },
      "execution_count": 25,
      "outputs": [
        {
          "output_type": "stream",
          "name": "stdout",
          "text": [
            "True\n"
          ]
        }
      ]
    },
    {
      "cell_type": "code",
      "source": [
        "print(3 < 0)"
      ],
      "metadata": {
        "colab": {
          "base_uri": "https://localhost:8080/"
        },
        "id": "lJcuKBm5o0j7",
        "outputId": "7afefea0-a734-4db5-9f4b-8539676eb907"
      },
      "execution_count": 26,
      "outputs": [
        {
          "output_type": "stream",
          "name": "stdout",
          "text": [
            "False\n"
          ]
        }
      ]
    },
    {
      "cell_type": "code",
      "source": [
        "# 비교연산자 활용\n",
        "\n",
        "# 조건\n",
        "# if 조건(true):\n",
        "#   참일 때 조건 실행\n",
        "# false\n",
        "\n",
        "# a, b\n",
        "# 가로, 세로 -> 가로 더 큰 경우 16:9"
      ],
      "metadata": {
        "id": "S-TKsxfJo0ht"
      },
      "execution_count": null,
      "outputs": []
    },
    {
      "cell_type": "markdown",
      "source": [
        "#### 논리연산자\n",
        "\n",
        "- and, or, not\n",
        "- boolean 기반으로 이해하기\n",
        "- 값1(true) 값2(false)\n",
        "- and: 그리고 -> 왼쪽값 그리고 오른쪽값 -> 왼쪽값이 true 그리고 오른쪽 값이 true: true\n",
        "- or: 또는 -> 왼쪽값 또는 오른쪽값 -> 왼쪽값이 true 이거나 오른쪽 값이 ture: true\n",
        "\n",
        "- not: 반대 -> 하나의 값을 부정 -> 값이 true false, false true"
      ],
      "metadata": {
        "id": "B26yV1UO6_MS"
      }
    },
    {
      "cell_type": "code",
      "source": [
        "# a > 0 (true or false) | b < 0 (true or false)"
      ],
      "metadata": {
        "id": "Rj8rXLMDo0fe"
      },
      "execution_count": null,
      "outputs": []
    },
    {
      "cell_type": "code",
      "source": [
        "# and\n",
        "# true true: true\n",
        "# true false: false\n",
        "# false false: false\n",
        "\n",
        "# if 조건1 and 조건2:\n",
        "#  -> 둘 다 참일 때만 이 조건을 실행해주세요."
      ],
      "metadata": {
        "id": "Jw1eFuASo0dS"
      },
      "execution_count": null,
      "outputs": []
    },
    {
      "cell_type": "code",
      "source": [
        "# or\n",
        "# true true: true\n",
        "# true false: true\n",
        "# false true: true\n",
        "# false false: false\n",
        "\n",
        "# if 조건1 or 조건2:\n",
        "#  -> 둘 중 하나라도 참이면 이 조건을 실행해주세요."
      ],
      "metadata": {
        "id": "VwJG4WGHo0bC"
      },
      "execution_count": null,
      "outputs": []
    },
    {
      "cell_type": "code",
      "source": [
        "# not\n",
        "# true -> false\n",
        "# false -> true\n",
        "\n",
        "# 유저의 정보가 있을 때, input 조건에 있지 않으면 -> 로그인 불가\n",
        "# if not 조건1:\n",
        "#  -> 조건이 충족되지 않을 때"
      ],
      "metadata": {
        "id": "v8L96Lydo0Ys"
      },
      "execution_count": null,
      "outputs": []
    },
    {
      "cell_type": "markdown",
      "source": [
        "#### 비트연산자\n",
        "\n",
        "- !! 이진수 진법을 먼저 공부하시고\n",
        "- !! 비트연산 다시 공부해보세요~!\n",
        "\n",
        "---\n",
        "\n",
        "- 비트(bit) 단위로 (논리)연산을 할 때 사용\n",
        "\n",
        "- 2진수\n",
        "- 0 0 0 0 1 1 1 1\n",
        "- 0 0 0 1 0 1 0 1\n",
        "\n",
        "- &(and), |(or), ^(xor), ~(not)\n",
        "- >>(오른쪽으로 shift), <<(왼쪽으로 shift)\n",
        "- 0 0 0 0 1 1 1 1\n",
        "- >> 2\n",
        "- 1 1 0 0 0 0 1 1"
      ],
      "metadata": {
        "id": "x8qIFta99384"
      }
    },
    {
      "cell_type": "code",
      "source": [
        "# and -> &\n",
        "# 0: false, 1: true\n",
        "\n",
        "'''\n",
        "1) 0 0 0 0 1 1 1 1\n",
        "2) 0 0 0 1 0 1 0 1\n",
        "-------------------\n",
        "   0 0 0 0 0 1 0 1\n",
        "\n",
        "'''"
      ],
      "metadata": {
        "id": "dvg0q3xWo0Wn"
      },
      "execution_count": null,
      "outputs": []
    },
    {
      "cell_type": "code",
      "source": [
        "# or -> |\n",
        "# 0: false, 1: true\n",
        "\n",
        "'''\n",
        "1) 0 0 0 0 1 1 1 1\n",
        "2) 0 0 0 1 0 1 0 1\n",
        "-------------------\n",
        "   0 0 0 1 1 1 1 1\n",
        "\n",
        "'''"
      ],
      "metadata": {
        "id": "k84mXCpso0UK"
      },
      "execution_count": null,
      "outputs": []
    },
    {
      "cell_type": "code",
      "source": [
        "# xor -> ^ : 둘 값이 다를 경우 true\n",
        "# 0: false, 1: true\n",
        "\n",
        "'''\n",
        "1) 0 0 0 0 1 1 1 1\n",
        "2) 0 0 0 1 0 1 0 1\n",
        "-------------------\n",
        "   0 0 0 1 1 0 1 0\n",
        "\n",
        "'''"
      ],
      "metadata": {
        "id": "F7_6lYxKo0R7"
      },
      "execution_count": null,
      "outputs": []
    },
    {
      "cell_type": "code",
      "source": [
        "# not -> ~\n",
        "# 0: false, 1: true\n",
        "\n",
        "'''\n",
        "1) 0 0 0 0 1 1 1 1\n",
        "-------------------\n",
        "   1 1 1 1 0 0 0 0\n",
        "\n",
        "'''"
      ],
      "metadata": {
        "id": "O2XrgDsIo0Py"
      },
      "execution_count": null,
      "outputs": []
    },
    {
      "cell_type": "markdown",
      "source": [
        "### 자주 사용되는 내장함수\n",
        "\n",
        "- sum(): 합계\n",
        "- max(), min(): 최대, 최소\n",
        "- round(): 반올림\n",
        "- abs(): 절대값\n",
        "\n",
        "---\n",
        "- numpy: 파이썬 라이브러리 -> 디테일한 수학적 계산이 가능"
      ],
      "metadata": {
        "id": "o_IG4jiGBGI5"
      }
    },
    {
      "cell_type": "code",
      "source": [
        "abs(-1)"
      ],
      "metadata": {
        "colab": {
          "base_uri": "https://localhost:8080/"
        },
        "id": "N55ofkJ8o0Nr",
        "outputId": "99c02369-0f53-4649-c709-ea556fb1f8ad"
      },
      "execution_count": 27,
      "outputs": [
        {
          "output_type": "execute_result",
          "data": {
            "text/plain": [
              "1"
            ]
          },
          "metadata": {},
          "execution_count": 27
        }
      ]
    },
    {
      "cell_type": "code",
      "source": [
        "round(2.6)"
      ],
      "metadata": {
        "colab": {
          "base_uri": "https://localhost:8080/"
        },
        "id": "nhk1nrreo0Ll",
        "outputId": "b82e3980-3efa-43d1-db55-f1f83a7da4ca"
      },
      "execution_count": 29,
      "outputs": [
        {
          "output_type": "execute_result",
          "data": {
            "text/plain": [
              "3"
            ]
          },
          "metadata": {},
          "execution_count": 29
        }
      ]
    },
    {
      "cell_type": "code",
      "source": [
        "round(-2.6)"
      ],
      "metadata": {
        "colab": {
          "base_uri": "https://localhost:8080/"
        },
        "id": "GJth7aZOo0Jf",
        "outputId": "5e50b315-aed1-4a94-b209-75af94f53e7f"
      },
      "execution_count": 30,
      "outputs": [
        {
          "output_type": "execute_result",
          "data": {
            "text/plain": [
              "-3"
            ]
          },
          "metadata": {},
          "execution_count": 30
        }
      ]
    },
    {
      "cell_type": "code",
      "source": [
        "# 숫자형 함수 중 많이 사용하는 random\n",
        "import random"
      ],
      "metadata": {
        "id": "WlaoxfnIo0HX"
      },
      "execution_count": 32,
      "outputs": []
    },
    {
      "cell_type": "code",
      "source": [
        "# 0과 1사이 랜덤한 숫자를 만들기 -> float\n",
        "random.random()"
      ],
      "metadata": {
        "colab": {
          "base_uri": "https://localhost:8080/"
        },
        "id": "wKyTsKWfo0FI",
        "outputId": "3673e672-bfe9-41ef-b42c-a6c4e9532e03"
      },
      "execution_count": 33,
      "outputs": [
        {
          "output_type": "execute_result",
          "data": {
            "text/plain": [
              "0.8351283243383112"
            ]
          },
          "metadata": {},
          "execution_count": 33
        }
      ]
    },
    {
      "cell_type": "code",
      "source": [
        "# 최소, 최대값 사이에 랜덤한 숫자 만들기 -> float\n",
        "random.uniform(1, 10)"
      ],
      "metadata": {
        "colab": {
          "base_uri": "https://localhost:8080/"
        },
        "id": "viK0R-v2o0DI",
        "outputId": "13a79367-1139-4dff-eb46-e2de4ddda13b"
      },
      "execution_count": 35,
      "outputs": [
        {
          "output_type": "execute_result",
          "data": {
            "text/plain": [
              "8.04484783942162"
            ]
          },
          "metadata": {},
          "execution_count": 35
        }
      ]
    },
    {
      "cell_type": "code",
      "source": [
        "# 최소, 최대값 사이에 랜덤한 숫자 만들기 -> int\n",
        "random.randint(1, 10)"
      ],
      "metadata": {
        "colab": {
          "base_uri": "https://localhost:8080/"
        },
        "id": "GUKjxGwpo0BJ",
        "outputId": "6f080016-0621-44c6-ad6c-e8117df5d423"
      },
      "execution_count": 36,
      "outputs": [
        {
          "output_type": "execute_result",
          "data": {
            "text/plain": [
              "2"
            ]
          },
          "metadata": {},
          "execution_count": 36
        }
      ]
    },
    {
      "cell_type": "markdown",
      "source": [
        "## 문자형\n",
        "\n",
        "- \"\", ''\n",
        "- 순서가 있는 시퀀스 자료형\n",
        " - 시퀀스 자료형: Index(인덱스)\n",
        " - 인덱스: 인덱싱, 슬라이싱 가능"
      ],
      "metadata": {
        "id": "vqTUapY2GSgU"
      }
    },
    {
      "cell_type": "code",
      "source": [
        "# 문자열 선언\n",
        "a = 'hello'"
      ],
      "metadata": {
        "id": "-JkFsCaAoz_F"
      },
      "execution_count": 37,
      "outputs": []
    },
    {
      "cell_type": "code",
      "source": [
        "# 인덱싱\n",
        "a[0]"
      ],
      "metadata": {
        "colab": {
          "base_uri": "https://localhost:8080/",
          "height": 36
        },
        "id": "FuS9EtJqoz8-",
        "outputId": "77308142-3aaa-4058-df6e-743b33cdee3b"
      },
      "execution_count": 38,
      "outputs": [
        {
          "output_type": "execute_result",
          "data": {
            "text/plain": [
              "'h'"
            ],
            "application/vnd.google.colaboratory.intrinsic+json": {
              "type": "string"
            }
          },
          "metadata": {},
          "execution_count": 38
        }
      ]
    },
    {
      "cell_type": "code",
      "source": [
        "# 슬라이싱\n",
        "a[0:3]"
      ],
      "metadata": {
        "colab": {
          "base_uri": "https://localhost:8080/",
          "height": 36
        },
        "id": "1bvSRclPoz61",
        "outputId": "a288900b-6cd8-41d9-ce5e-45f11eaa66f2"
      },
      "execution_count": 40,
      "outputs": [
        {
          "output_type": "execute_result",
          "data": {
            "text/plain": [
              "'hel'"
            ],
            "application/vnd.google.colaboratory.intrinsic+json": {
              "type": "string"
            }
          },
          "metadata": {},
          "execution_count": 40
        }
      ]
    },
    {
      "cell_type": "code",
      "execution_count": 41,
      "metadata": {
        "colab": {
          "base_uri": "https://localhost:8080/"
        },
        "id": "bq0jX1KynxFX",
        "outputId": "3d3ca2ce-7c3e-4261-cfbe-c17ac42e8943"
      },
      "outputs": [
        {
          "output_type": "execute_result",
          "data": {
            "text/plain": [
              "2"
            ]
          },
          "metadata": {},
          "execution_count": 41
        }
      ],
      "source": [
        "# 인덱싱을 활용하기\n",
        "# 인덱싱을 이용하는 함수를 사용할 수 있다.\n",
        "# index\n",
        "\n",
        "a.index('l')"
      ]
    },
    {
      "cell_type": "markdown",
      "source": [
        "#### 문자열 포맷팅\n",
        "\n",
        "- % 포맷팅\n",
        "- format 함수\n",
        "- f-string"
      ],
      "metadata": {
        "id": "YpXy9rtnHiv_"
      }
    },
    {
      "cell_type": "code",
      "source": [
        "# % 포맷팅\n",
        "# %d: 정수, %f: 실수, %s: 문자열\n",
        "\n",
        "n = 10\n",
        "print(\"%d\" % n)"
      ],
      "metadata": {
        "colab": {
          "base_uri": "https://localhost:8080/"
        },
        "id": "IzEkp__pGahw",
        "outputId": "69383c43-8966-487f-b906-0c11f9d78be1"
      },
      "execution_count": 42,
      "outputs": [
        {
          "output_type": "stream",
          "name": "stdout",
          "text": [
            "10\n"
          ]
        }
      ]
    },
    {
      "cell_type": "code",
      "source": [
        "# format 함수\n",
        "\n",
        "print(\"파이는 {0}.{1}\".format(3, 14))"
      ],
      "metadata": {
        "colab": {
          "base_uri": "https://localhost:8080/"
        },
        "id": "Lj5wT9X1Ga_y",
        "outputId": "526bdabb-0653-4be7-e278-4de70c69b1ab"
      },
      "execution_count": 45,
      "outputs": [
        {
          "output_type": "stream",
          "name": "stdout",
          "text": [
            "파이는 3.14\n"
          ]
        }
      ]
    },
    {
      "cell_type": "code",
      "source": [
        "# f-string\n",
        "# python 3.6 이상\n",
        "# 다른 파이썬 버전에서 사용하면 안됩니다.\n",
        "\n",
        "num = 1\n",
        "print(f'오르미 {num}기 입니다.')"
      ],
      "metadata": {
        "colab": {
          "base_uri": "https://localhost:8080/"
        },
        "id": "JzYx2dGlHMhw",
        "outputId": "dda9bb54-38b6-41e6-97d2-7dcd478c27ab"
      },
      "execution_count": 46,
      "outputs": [
        {
          "output_type": "stream",
          "name": "stdout",
          "text": [
            "오르미 1기 입니다.\n"
          ]
        }
      ]
    },
    {
      "cell_type": "markdown",
      "source": [
        "#### 이스케이프 문자\n",
        "\n",
        "- \\n: 엔터(개행)\n",
        "- \\t: 탭\n",
        "- \\': 작은 따옴표\n",
        "- \\\": 큰 따옴표\n",
        "- \\b: 백 스페이스\n",
        "- \\\\\\ : 역슬러시 표현\n",
        "\n",
        "여러 줄 내용을 하나의 변수에 표시할 때\n",
        "'나는 \"안녕하세요 '라고 생각했다.' \"라고 말했다.'\n",
        "\"안녕하세요 \\n 반갑습니다.\""
      ],
      "metadata": {
        "id": "w_CnGywpI7ft"
      }
    },
    {
      "cell_type": "markdown",
      "source": [
        "#### 내장 함수\n",
        "\n",
        "- count(): 안에 있는 문자 갯수 세기\n",
        "- strip(): 양쪽 공백, 특정 문자를 제거\n",
        "- replace(): 어떤 문자를 원하는 문자로 바꿔줄 때\n",
        "- split(): 특정 기준으로 문자열을 쪼개줄 때\n",
        "- join(): 문자열을 합쳐줄 때"
      ],
      "metadata": {
        "id": "qG65NfAAJ61R"
      }
    },
    {
      "cell_type": "code",
      "source": [
        "# 1 ~ 10000 까지 있을 때 8이 몇 개 있는가\n",
        "# for if 8 count+ / \"\".count('8')"
      ],
      "metadata": {
        "id": "CU9CuRJ-HMeK"
      },
      "execution_count": null,
      "outputs": []
    },
    {
      "cell_type": "markdown",
      "source": [
        "## 불리언\n",
        "\n",
        "숫자형 연산 부분을 참고해주세요."
      ],
      "metadata": {
        "id": "1coUQqqULUkB"
      }
    },
    {
      "cell_type": "markdown",
      "source": [
        "# 자료구조\n",
        "\n",
        "- 리스트, 튜플, 딕셔너리, 셋"
      ],
      "metadata": {
        "id": "Lz6FUhh7Levf"
      }
    },
    {
      "cell_type": "markdown",
      "source": [
        "## 리스트 (배열)\n",
        "\n",
        "- 순서를 가진 시퀀스(sequece)형 -> ...\n",
        "- list_a = []\n",
        "- 값 변경이 가능"
      ],
      "metadata": {
        "id": "Qcuy6etMLpRd"
      }
    },
    {
      "cell_type": "code",
      "source": [
        "# 리스트 선언\n",
        "list_a = [1, 2, 3]"
      ],
      "metadata": {
        "id": "cBuBbPtVHMb4"
      },
      "execution_count": 47,
      "outputs": []
    },
    {
      "cell_type": "code",
      "source": [
        "# 인덱싱\n",
        "list_a[0]"
      ],
      "metadata": {
        "colab": {
          "base_uri": "https://localhost:8080/"
        },
        "id": "KMoeWAVhHMZQ",
        "outputId": "65560da4-6d95-46fc-ea81-39b7f851cd66"
      },
      "execution_count": 48,
      "outputs": [
        {
          "output_type": "execute_result",
          "data": {
            "text/plain": [
              "1"
            ]
          },
          "metadata": {},
          "execution_count": 48
        }
      ]
    },
    {
      "cell_type": "code",
      "source": [
        "# 슬라이싱\n",
        "list_a[0:2]"
      ],
      "metadata": {
        "colab": {
          "base_uri": "https://localhost:8080/"
        },
        "id": "OlDxQgiVKiKa",
        "outputId": "2b17e9e9-9b16-42fe-d32c-0899d469a14b"
      },
      "execution_count": 49,
      "outputs": [
        {
          "output_type": "execute_result",
          "data": {
            "text/plain": [
              "[1, 2]"
            ]
          },
          "metadata": {},
          "execution_count": 49
        }
      ]
    },
    {
      "cell_type": "markdown",
      "source": [
        "### 사칙 연산"
      ],
      "metadata": {
        "id": "e18npLv9MqJ0"
      }
    },
    {
      "cell_type": "code",
      "source": [
        "list_a = [1, 2, 3] # -> [2, 4, 6]\n",
        "\n",
        "list_a = list_a + list_a"
      ],
      "metadata": {
        "id": "RsO2osQIKiIZ"
      },
      "execution_count": 50,
      "outputs": []
    },
    {
      "cell_type": "code",
      "source": [
        "print(list_a)"
      ],
      "metadata": {
        "colab": {
          "base_uri": "https://localhost:8080/"
        },
        "id": "5LDu42mjKiGa",
        "outputId": "7f52f5b8-10d4-4675-d068-a67624b18a9a"
      },
      "execution_count": 51,
      "outputs": [
        {
          "output_type": "stream",
          "name": "stdout",
          "text": [
            "[1, 2, 3, 1, 2, 3]\n"
          ]
        }
      ]
    },
    {
      "cell_type": "code",
      "source": [
        "### for 문을 순회하면서 더하기\n",
        "\n",
        "# 추가: numpy\n",
        "# 1차원 2차원 3차원 ...\n",
        "# 다차원 배열 계산에 강점 -> [] + []"
      ],
      "metadata": {
        "id": "m6sHecLrKiEU"
      },
      "execution_count": null,
      "outputs": []
    },
    {
      "cell_type": "code",
      "source": [
        "list_a + 3\n",
        "\n",
        "# 크기가 맞지 않습니다. -> for문 순회로 각각을 더해주어야 합니다."
      ],
      "metadata": {
        "colab": {
          "base_uri": "https://localhost:8080/",
          "height": 170
        },
        "id": "kU9szwsnNHS8",
        "outputId": "5bd4c47a-193b-49ba-aa1e-64fa1ab75ef6"
      },
      "execution_count": 52,
      "outputs": [
        {
          "output_type": "error",
          "ename": "TypeError",
          "evalue": "ignored",
          "traceback": [
            "\u001b[0;31m---------------------------------------------------------------------------\u001b[0m",
            "\u001b[0;31mTypeError\u001b[0m                                 Traceback (most recent call last)",
            "\u001b[0;32m<ipython-input-52-2e1f6d277084>\u001b[0m in \u001b[0;36m<cell line: 1>\u001b[0;34m()\u001b[0m\n\u001b[0;32m----> 1\u001b[0;31m \u001b[0mlist_a\u001b[0m \u001b[0;34m+\u001b[0m \u001b[0;36m3\u001b[0m\u001b[0;34m\u001b[0m\u001b[0;34m\u001b[0m\u001b[0m\n\u001b[0m",
            "\u001b[0;31mTypeError\u001b[0m: can only concatenate list (not \"int\") to list"
          ]
        }
      ]
    },
    {
      "cell_type": "code",
      "source": [
        "list_a + [3]"
      ],
      "metadata": {
        "colab": {
          "base_uri": "https://localhost:8080/"
        },
        "id": "C3I5b95qNHQh",
        "outputId": "4c69a136-d5f6-4977-bef1-cbe1a7977966"
      },
      "execution_count": 53,
      "outputs": [
        {
          "output_type": "execute_result",
          "data": {
            "text/plain": [
              "[1, 2, 3, 1, 2, 3, 3]"
            ]
          },
          "metadata": {},
          "execution_count": 53
        }
      ]
    },
    {
      "cell_type": "code",
      "source": [
        "list_a * 3"
      ],
      "metadata": {
        "colab": {
          "base_uri": "https://localhost:8080/"
        },
        "id": "cH_N6Bk5NHHR",
        "outputId": "bd41a765-bd2a-4eb0-b76c-ddbb583b9346"
      },
      "execution_count": 55,
      "outputs": [
        {
          "output_type": "execute_result",
          "data": {
            "text/plain": [
              "[1, 2, 3, 1, 2, 3, 1, 2, 3, 1, 2, 3, 1, 2, 3, 1, 2, 3]"
            ]
          },
          "metadata": {},
          "execution_count": 55
        }
      ]
    },
    {
      "cell_type": "code",
      "source": [
        "list_a * [3]\n",
        "\n",
        "# 크기가 맞지 않습니다."
      ],
      "metadata": {
        "colab": {
          "base_uri": "https://localhost:8080/",
          "height": 170
        },
        "id": "KGxMr4xbNHE6",
        "outputId": "5c6a7950-e710-4364-9143-cf53166d8261"
      },
      "execution_count": 56,
      "outputs": [
        {
          "output_type": "error",
          "ename": "TypeError",
          "evalue": "ignored",
          "traceback": [
            "\u001b[0;31m---------------------------------------------------------------------------\u001b[0m",
            "\u001b[0;31mTypeError\u001b[0m                                 Traceback (most recent call last)",
            "\u001b[0;32m<ipython-input-56-d74bb2cf46b4>\u001b[0m in \u001b[0;36m<cell line: 1>\u001b[0;34m()\u001b[0m\n\u001b[0;32m----> 1\u001b[0;31m \u001b[0mlist_a\u001b[0m \u001b[0;34m*\u001b[0m \u001b[0;34m[\u001b[0m\u001b[0;36m3\u001b[0m\u001b[0;34m]\u001b[0m\u001b[0;34m\u001b[0m\u001b[0;34m\u001b[0m\u001b[0m\n\u001b[0m",
            "\u001b[0;31mTypeError\u001b[0m: can't multiply sequence by non-int of type 'list'"
          ]
        }
      ]
    },
    {
      "cell_type": "code",
      "source": [
        "# list_a + list_a -> [][]\n",
        "# list_a + [3]\n",
        "# append\n",
        "\n",
        "li = [1, 2]\n",
        "\n",
        "li.append(3)\n",
        "print(li)"
      ],
      "metadata": {
        "colab": {
          "base_uri": "https://localhost:8080/"
        },
        "id": "fInZx9QuOZMc",
        "outputId": "f284374e-0147-4779-ba1e-ffd7a4e5a340"
      },
      "execution_count": 57,
      "outputs": [
        {
          "output_type": "stream",
          "name": "stdout",
          "text": [
            "[1, 2, 3]\n"
          ]
        }
      ]
    },
    {
      "cell_type": "code",
      "source": [
        "# 값 지우기\n",
        "# .clear()\n",
        "\n",
        "li.clear()"
      ],
      "metadata": {
        "id": "Zluony58OZH9"
      },
      "execution_count": 59,
      "outputs": []
    },
    {
      "cell_type": "code",
      "source": [
        "print(li)"
      ],
      "metadata": {
        "colab": {
          "base_uri": "https://localhost:8080/"
        },
        "id": "WUnk_m9zOZFw",
        "outputId": "e7c2b35f-0bd7-4353-b9c7-bfb8687d7889"
      },
      "execution_count": 60,
      "outputs": [
        {
          "output_type": "stream",
          "name": "stdout",
          "text": [
            "[]\n"
          ]
        }
      ]
    },
    {
      "cell_type": "code",
      "source": [
        "a = [1, 2, 3]\n",
        "\n",
        "b = a\n",
        "c = b\n",
        "\n",
        "c[0] = 100"
      ],
      "metadata": {
        "id": "HzpT_At6OZDS"
      },
      "execution_count": 61,
      "outputs": []
    },
    {
      "cell_type": "code",
      "source": [
        "print(a)"
      ],
      "metadata": {
        "colab": {
          "base_uri": "https://localhost:8080/"
        },
        "id": "5C-UYcg-OZBP",
        "outputId": "464a66f1-75b7-4b9e-e2d8-f1179ec0eebe"
      },
      "execution_count": 62,
      "outputs": [
        {
          "output_type": "stream",
          "name": "stdout",
          "text": [
            "[100, 2, 3]\n"
          ]
        }
      ]
    },
    {
      "cell_type": "code",
      "source": [
        "a = [1, 2, 3]\n",
        "\n",
        "b = a.copy()\n",
        "c = b.copy()\n",
        "\n",
        "c[0] = 1000"
      ],
      "metadata": {
        "id": "bO377TAMOY-w"
      },
      "execution_count": 63,
      "outputs": []
    },
    {
      "cell_type": "code",
      "source": [
        "print(a)\n",
        "print(b)\n",
        "print(c)"
      ],
      "metadata": {
        "colab": {
          "base_uri": "https://localhost:8080/"
        },
        "id": "j6mDdWOoNHCj",
        "outputId": "0e851a75-1074-43b6-b5a9-b130f18c3aa1"
      },
      "execution_count": 64,
      "outputs": [
        {
          "output_type": "stream",
          "name": "stdout",
          "text": [
            "[1, 2, 3]\n",
            "[1, 2, 3]\n",
            "[1000, 2, 3]\n"
          ]
        }
      ]
    },
    {
      "cell_type": "code",
      "source": [
        "# append 하나의 값을 뒤에 추가해줄 때\n",
        "# extend 여러 값들을 추가할 때\n",
        "\n",
        "a.extend([4, 5, 6])\n",
        "print(a)"
      ],
      "metadata": {
        "colab": {
          "base_uri": "https://localhost:8080/"
        },
        "id": "4-tUdhTBNHAL",
        "outputId": "60ccdda5-d2e0-4cd5-eba0-e59c4822d4d3"
      },
      "execution_count": 65,
      "outputs": [
        {
          "output_type": "stream",
          "name": "stdout",
          "text": [
            "[1, 2, 3, 4, 5, 6]\n"
          ]
        }
      ]
    },
    {
      "cell_type": "code",
      "source": [
        "a.append(2)\n",
        "print(a)"
      ],
      "metadata": {
        "colab": {
          "base_uri": "https://localhost:8080/"
        },
        "id": "UXNCai_sNG-L",
        "outputId": "aa83e257-e2d2-4860-a13f-3a24622e8c91"
      },
      "execution_count": 67,
      "outputs": [
        {
          "output_type": "stream",
          "name": "stdout",
          "text": [
            "[1, 2, 3, 4, 5, 6, 2]\n"
          ]
        }
      ]
    },
    {
      "cell_type": "code",
      "source": [],
      "metadata": {
        "id": "CQ10upthQDP7"
      },
      "execution_count": null,
      "outputs": []
    }
  ]
}